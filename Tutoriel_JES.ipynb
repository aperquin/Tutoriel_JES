{
  "nbformat": 4,
  "nbformat_minor": 0,
  "metadata": {
    "colab": {
      "name": "Tutoriel_JES.ipynb",
      "provenance": [],
      "toc_visible": true,
      "collapsed_sections": []
    },
    "kernelspec": {
      "name": "python3",
      "display_name": "Python 3"
    },
    "language_info": {
      "name": "python"
    }
  },
  "cells": [
    {
      "cell_type": "code",
      "source": [
        "# Télécharge les dataset\n",
        "%%bash\n",
        "mkdir -p breast_cancer\n",
        "wget -O breast_cancer/breast-cancer-wisconsin.data https://archive.ics.uci.edu/ml/machine-learning-databases/breast-cancer-wisconsin/breast-cancer-wisconsin.data\n",
        "mkdir -p nba\n",
        "wget -O nba/data.csv https://raw.githubusercontent.com/fivethirtyeight/data/master/nba-elo/nbaallelo.csv"
      ],
      "metadata": {
        "id": "k4Qbud7D3e3M"
      },
      "execution_count": null,
      "outputs": []
    },
    {
      "cell_type": "code",
      "metadata": {
        "id": "MA-FBmGeAspP"
      },
      "source": [
        "# Importe les bibliothèques utilisées pendant ce tutoriel\n",
        "import pandas as pd"
      ],
      "execution_count": null,
      "outputs": []
    },
    {
      "cell_type": "markdown",
      "source": [
        "# 0 - Rappels Python\n",
        "\n",
        "- Pas de typage des variables\n"
      ],
      "metadata": {
        "id": "OMHLG3KypwBW"
      }
    },
    {
      "cell_type": "code",
      "source": [
        "a = 5\n",
        "print(a)\n",
        "a = \"toto\"\n",
        "print(a)"
      ],
      "metadata": {
        "id": "M0CsRIuxvT_b"
      },
      "execution_count": null,
      "outputs": []
    },
    {
      "cell_type": "markdown",
      "source": [
        "- Indentation"
      ],
      "metadata": {
        "id": "gRb2D6GzvUaM"
      }
    },
    {
      "cell_type": "code",
      "source": [
        "for i in range(0, 5):\n",
        "    print(i)"
      ],
      "metadata": {
        "id": "SjJjdAMZvexf"
      },
      "execution_count": null,
      "outputs": []
    },
    {
      "cell_type": "markdown",
      "source": [
        "- List indexing et slicing"
      ],
      "metadata": {
        "id": "cS_b07ukvfJV"
      }
    },
    {
      "cell_type": "code",
      "source": [
        "a = [\"a\", \"b\", \"c\", \"d\", \"e\"]\n",
        "print(a[0]) # Index commence à 0\n",
        "print(a[-1]) # On peut indexer à partir de la fin de la liste\n",
        "print(a[1:-2]) # Slicing. La borne supérieure est exclue"
      ],
      "metadata": {
        "id": "Xbcg87XjvvgO"
      },
      "execution_count": null,
      "outputs": []
    },
    {
      "cell_type": "markdown",
      "source": [
        "- (presque) Tout est objet : ils ont des attributs et des fonctions accessibles via `.`"
      ],
      "metadata": {
        "id": "R47wJ2Q1vvwr"
      }
    },
    {
      "cell_type": "code",
      "source": [
        "a = [10, 11, 12, 13, 14]\n",
        "a.insert(1, 20)\n",
        "print(a)\n",
        "a.sort()\n",
        "print(a)"
      ],
      "metadata": {
        "id": "FbZHl60-wJC9"
      },
      "execution_count": null,
      "outputs": []
    },
    {
      "cell_type": "markdown",
      "source": [
        "- Chaîne de caractères"
      ],
      "metadata": {
        "id": "9Q0nPqvFwJgE"
      }
    },
    {
      "cell_type": "code",
      "source": [
        "a = \"toto\"\n",
        "b = 'toto'\n",
        "print(a==b) # L'utilisation de \"\" ou '' est équivalent\n",
        "print(\"toto\")\n",
        "print(\"'toto'\") # La combinaison de \"\" et '' permet d'échapper"
      ],
      "metadata": {
        "id": "W5T-W2251Us-"
      },
      "execution_count": null,
      "outputs": []
    },
    {
      "cell_type": "markdown",
      "source": [
        "# I - Introduction à Pandas\n",
        "\n",
        "Pandas est une bibliothèque Python permettant de manipuler et analyser des jeux de données tabulaires. Les données au format tabulaires sont omniprésentes, en particulier dans le domaine du libre. Par exemple, le gouvernement libère un grand nombre de données, enregistrée au format CSV, sur le site [data.gouv.fr](https://www.data.gouv.fr/fr/datasets/).\n",
        "\n",
        "De manière plus \"pratique\", un grand nombre d'entreprises stockent leurs données dans une base de données SQL, ce qui n'est rien d'autre qu'un ensemble de tableaux !\n",
        "\n",
        "Remarque :\n",
        "- La partie I de ce TP est inspirée de ce très bon [tutoriel](https://realpython.com/pandas-python-explore-dataset/#using-loc-and-iloc) sur Pandas (en anglais).\n",
        "- On utilisera dans un premier temps un jeu de données correspondant à des matchs de basket de la NBA."
      ],
      "metadata": {
        "id": "4uZhQaGSBtvy"
      }
    },
    {
      "cell_type": "markdown",
      "source": [
        "## I.0 - Comment aurait-on fait en Python natif ?\n",
        "\n",
        "Nous allons voir dans la prochaine section comment utiliser Pandas pour effectuer des requêtes rapidement et simplement dans un jeu de données tabulaire. Cependant, il est intéressant d'étudier très rapidement comment la même tâche serait effectuée en Python Natif.\n",
        "\n",
        "- Premièrement, il est nécessaire d'ouvrir le fichier contenant le jeu de données :"
      ],
      "metadata": {
        "id": "98_HUviQlBzR"
      }
    },
    {
      "cell_type": "code",
      "source": [
        "# Ouverture du fichier\n",
        "with open(\"nba/data.csv\", \"r\") as opened_file:\n",
        "    lines = opened_file.readlines()\n",
        "\n",
        "# Lines est une liste dont chaque élément est une ligne du fichier ouvert\n",
        "for i in range(5):\n",
        "    print(lines[i])"
      ],
      "metadata": {
        "id": "t8LgA9Y7mDa3"
      },
      "execution_count": null,
      "outputs": []
    },
    {
      "cell_type": "markdown",
      "source": [
        "La première ligne du jeu de données contient la description de chaque colonne.\n",
        "\n",
        "Les lignes suivantes décrivent les matchs contenus dans le jeu de données\n",
        "\n",
        "- Deuxièmement, il est nécessaire d'enregistrer le header et les données séparément. De plus, il faut enregistrer les données dans une structure manipulable."
      ],
      "metadata": {
        "id": "mUhW4dvKmjeI"
      }
    },
    {
      "cell_type": "code",
      "source": [
        "# Récupération du nom de chaque colonne\n",
        "header = lines[0].strip('\\n').split(',')\n",
        "print(header)\n",
        "\n",
        "# Récupération des descriptions des matchs\n",
        "data = []\n",
        "for i in range(1, len(lines)):\n",
        "    line = lines[i].strip('\\n').split(',')\n",
        "    data.append(line)\n",
        "\n",
        "# Affichage des 5 premiers éléments\n",
        "for i in range(5):\n",
        "    print(data[i])"
      ],
      "metadata": {
        "id": "eRaSa_cknAw9"
      },
      "execution_count": null,
      "outputs": []
    },
    {
      "cell_type": "markdown",
      "source": [
        "On remarque que `data` est une liste de liste. Chaque élément de `data` (la description d'un match) est une liste dont chaque élément est un attribut du match (ID, nom d'équipe, résultat, etc.)\n",
        "\n",
        "Une fois que le header et les données sont sauvegardées en mémoire, on peut effectuer une requête dans le jeu de données. Par exemple, si l'on souhaite trouver le nombre de matchs gagnés dans les années 50 par les Celtics, la démarche est la suivante :"
      ],
      "metadata": {
        "id": "4T-ga2rln1gv"
      }
    },
    {
      "cell_type": "code",
      "source": [
        "# Enregistre les indices des colonnes utiles\n",
        "year_id_index = header.index(\"year_id\")\n",
        "fran_id_index = header.index(\"fran_id\")\n",
        "game_result_index = header.index(\"game_result\")\n",
        "\n",
        "results = []\n",
        "for i in range(len(data)): # Pour chaque ligne de data\n",
        "    # Enregistre les données utiles pour évaluer les critères de la requête\n",
        "    year_id = int(data[i][year_id_index])\n",
        "    fran_id = data[i][fran_id_index]\n",
        "    game_result = data[i][game_result_index]\n",
        "\n",
        "    # Applique les critères de la requête\n",
        "    played_in_fifties = (year_id >= 1950 and year_id < 1960)\n",
        "    played_by_celtics = (fran_id == \"Celtics\")\n",
        "    won = (game_result == \"W\")\n",
        "    if played_in_fifties and played_by_celtics and won:\n",
        "        results.append(data[i])\n",
        "\n",
        "# Affiche le résultat de la requête\n",
        "print(len(results))"
      ],
      "metadata": {
        "id": "MIeFzs2UbLa4"
      },
      "execution_count": null,
      "outputs": []
    },
    {
      "cell_type": "markdown",
      "source": [
        "Comme on vient de le voir, il est tout à fait possible d'effectuer des requêtes dans un jeu de données tabulaire en Python natif. Cependant, ça demande beaucoup de lignes de code, même pour une requête très simple. Les choses ne seront que plus complexes si nos données sont réparties dans plusieurs tableaux où si l'on espère grouper nos données selon certaines caractéristiques, etc.\n",
        "\n",
        "**Nous allons donc voir comment Pandas permet de simplifier l'accès à un jeu de données tabulaire.**"
      ],
      "metadata": {
        "id": "-tbhnEOOpd7d"
      }
    },
    {
      "cell_type": "markdown",
      "source": [
        "## I.1 - Ouverture d'un fichier et affichage\n",
        "\n",
        "Pandas offre une fonction d'ouverture de fichier pour chaque type de fichiers supporté par la bibliothèque (CSV, JSON, SQL, etc.). Les jeu de données que nous utiliserons dans ce tutoriel sont au format CSV. Nous utiliserons donc la fonction [read_csv](https://pandas.pydata.org/pandas-docs/stable/reference/api/pandas.read_csv.html), qui prend en argument la position du fichier et retourne la **Dataframe** correspondante."
      ],
      "metadata": {
        "id": "YxaX8OiGqcp8"
      }
    },
    {
      "cell_type": "code",
      "source": [
        "nba_df = pd.read_csv(\"nba/data.csv\")\n",
        "print(nba_df)\n",
        "print(type(nba_df))"
      ],
      "metadata": {
        "id": "cSAFLTtqKnY_"
      },
      "execution_count": null,
      "outputs": []
    },
    {
      "cell_type": "markdown",
      "source": [
        "Les Dataframe sont des objets définis par Pandas. Elles correspondent à des **tableaux à 2 dimensions** (ligne/colonne). Les colonnes du tableau sont indéxées par leur nom (définis par le header du fichier), les lignes sont indexées par leur position.\n",
        "\n",
        "Par défaut, lors de l'affichage d'une dataframe, toutes les colonnes ne sont pas affichées pour éviter les débordement hors de l'écran. Il est possible de modifier ce comportement pour forcer l'affichage de toutes les colonnes :"
      ],
      "metadata": {
        "id": "l7OXH1HzMPh7"
      }
    },
    {
      "cell_type": "code",
      "source": [
        "pd.set_option(\"display.max.columns\", None) # Modifie le comportement par défaut\n",
        "print(nba_df)\n",
        "pd.set_option(\"display.max.columns\", 6) # Rétablit le comportement par défaut"
      ],
      "metadata": {
        "id": "qKkv7qSmRM7v"
      },
      "execution_count": null,
      "outputs": []
    },
    {
      "cell_type": "markdown",
      "source": [
        "**Astuces** :\n",
        "- L'attribut **columns** d'une dataframe permet d'obtenir le nom de toutes les colonnes\n",
        "- Les dataframe offrent deux fonctions permettant de limiter l'affichage de la dataframe aux premières ou dernières lignes : **head** et **tail**."
      ],
      "metadata": {
        "id": "5FpS3edMR6Ld"
      }
    },
    {
      "cell_type": "code",
      "source": [
        "print(nba_df.columns)"
      ],
      "metadata": {
        "id": "XTZ6bHjPSozF"
      },
      "execution_count": null,
      "outputs": []
    },
    {
      "cell_type": "code",
      "source": [
        "print(nba_df.head())\n",
        "print(nba_df.tail())"
      ],
      "metadata": {
        "id": "DzK9Gg0QPMTs"
      },
      "execution_count": null,
      "outputs": []
    },
    {
      "cell_type": "markdown",
      "source": [
        "## II.2 - Accès aux éléments d'une Dataframe"
      ],
      "metadata": {
        "id": "mGC5JWp0UIlp"
      }
    },
    {
      "cell_type": "markdown",
      "source": [
        "### II.2.a - Théorie\n",
        "\n",
        "Il y a de nombreuses manières différentes pour accéder aux données contenues dans une Dataframe ([loc](https://pandas.pydata.org/docs/reference/api/pandas.DataFrame.loc.html), [iloc](https://pandas.pydata.org/docs/reference/api/pandas.DataFrame.iloc.html), [ix](https://pandas.pydata.org/pandas-docs/version/0.23/generated/pandas.DataFrame.ix.html), etc.). Pour simplifier les choses, nous utiliserons uniquement la méthode `loc` dans ce tutoriel.\n",
        "\n",
        "Une dataframe possède un attribut `loc` qui permet d'accéder aux données de la dataframe de la manière suivante: `nba_df.loc[label_ligne, label_colonnee]`.\n",
        "\n",
        "**Remarque** : Puisque nous avons laissé Pandas déterminer les labels des lignes automatiquement, le label d'une ligne est son indice.\n",
        "\n",
        "**Exemple** :\n",
        "- Par défaut, le label de la première ligne dans la dataframe est 0\n",
        "- Par défaut, le label de la 63ème ligne dans la dataframe est 64\n",
        "\n",
        "Pour accéder à la valeur contenue dans la 53ème ligne et la colonne `game_id`:"
      ],
      "metadata": {
        "id": "gspFXbQAmgOZ"
      }
    },
    {
      "cell_type": "code",
      "source": [
        "print(nba_df.loc[54, 'game_id'])"
      ],
      "metadata": {
        "id": "5r0cg5JuVb9J"
      },
      "execution_count": null,
      "outputs": []
    },
    {
      "cell_type": "markdown",
      "source": [
        "Comme dans une liste, il est possible d'utiliser des `slices` pour accèder à plusieurs lignes ou colonnes.\n",
        "\n",
        "**Remarque**: Contrairement aux listes natives de Python, l'indice de début et de fin sont inclus dans les valeurs retournées par un slice dans une Dataframe."
      ],
      "metadata": {
        "id": "ODWxnA22lAtX"
      }
    },
    {
      "cell_type": "code",
      "source": [
        "print(nba_df.loc[5:10, \"gameorder\":\"game_id\"])"
      ],
      "metadata": {
        "id": "sQvNMpBfWNid"
      },
      "execution_count": null,
      "outputs": []
    },
    {
      "cell_type": "markdown",
      "source": [
        "### II.2.b - Exercices\n",
        "\n",
        "- Afficher toutes les colonnes des 5 premières lignes"
      ],
      "metadata": {
        "id": "lafQ8tuvmZtP"
      }
    },
    {
      "cell_type": "code",
      "source": [
        "# À compléter"
      ],
      "metadata": {
        "id": "jD6PeFwxo0Rx"
      },
      "execution_count": null,
      "outputs": []
    },
    {
      "cell_type": "markdown",
      "source": [
        "- Afficher uniquement la colonne `forecast` des 5 dernières lignes"
      ],
      "metadata": {
        "id": "9N8duV2Nm_QD"
      }
    },
    {
      "cell_type": "code",
      "source": [
        "# À compléter"
      ],
      "metadata": {
        "id": "N3wwBRYApE8U"
      },
      "execution_count": null,
      "outputs": []
    },
    {
      "cell_type": "markdown",
      "source": [
        "- Afficher uniquement les colonnes `game_id` et `game_result` des lignes d'indices 12 à 15"
      ],
      "metadata": {
        "id": "Mv7GfSHin3BU"
      }
    },
    {
      "cell_type": "code",
      "source": [
        "# À compléter"
      ],
      "metadata": {
        "id": "4o9M5K0LoLvp"
      },
      "execution_count": null,
      "outputs": []
    },
    {
      "cell_type": "markdown",
      "source": [
        "## II.3 - Effectuer des requêtes dans une Dataframe"
      ],
      "metadata": {
        "id": "sK-Yord8lPt9"
      }
    },
    {
      "cell_type": "markdown",
      "source": [
        "### II.3.a - Théorie\n",
        "\n"
      ],
      "metadata": {
        "id": "ZRCnUPswpkif"
      }
    },
    {
      "cell_type": "markdown",
      "source": [
        "Comparer une Dataframe avec une valeur (entière, chaîne de caractères, etc.) permet d'obtenir un filtre correspondant à la comparaison de chaque cellule avec cette même valeur.\n",
        "\n",
        "Par exemple, si l'on compare notre dataframe avec la chaîne de caractères `\"W\"`, nous obtiendrons un filtre. Ce filtre est une nouvelle dataframe de la même forme que la précédente, mais les cellules contiennent True ou False en fonction de la comparaison avec \"W\""
      ],
      "metadata": {
        "id": "m4eGb81-qxQG"
      }
    },
    {
      "cell_type": "code",
      "source": [
        "print(nba_df == 'W')"
      ],
      "metadata": {
        "id": "KtA7y1_uq6Tf"
      },
      "execution_count": null,
      "outputs": []
    },
    {
      "cell_type": "markdown",
      "source": [
        "On peut aussi filter de manière plus précise sur une ou plusieurs colonnes d'une dataframe, grâce à l'attribut `loc`:"
      ],
      "metadata": {
        "id": "w5CLh7NVsHy6"
      }
    },
    {
      "cell_type": "code",
      "source": [
        "print(nba_df.loc[:, \"forecast\"] >= 0.5)"
      ],
      "metadata": {
        "id": "lt-VkWIrselM"
      },
      "execution_count": null,
      "outputs": []
    },
    {
      "cell_type": "markdown",
      "source": [
        "Enfin, il est aussi possible de combiner des filtres entre eux :"
      ],
      "metadata": {
        "id": "iWMY_b62s7-Q"
      }
    },
    {
      "cell_type": "code",
      "source": [
        "filtre_1 = nba_df.loc[:, \"forecast\"] >= 0.5\n",
        "print(filtre_1)"
      ],
      "metadata": {
        "id": "mbKf2oC-tBMG"
      },
      "execution_count": null,
      "outputs": []
    },
    {
      "cell_type": "code",
      "source": [
        "filtre_2 = nba_df.loc[:, \"game_result\"] == \"W\"\n",
        "print(filtre_2)"
      ],
      "metadata": {
        "id": "lG1HkcOctiCn"
      },
      "execution_count": null,
      "outputs": []
    },
    {
      "cell_type": "code",
      "source": [
        "result = filtre_1 & filtre_2\n",
        "print(result)"
      ],
      "metadata": {
        "id": "kIOK4BFbqqo3"
      },
      "execution_count": null,
      "outputs": []
    },
    {
      "cell_type": "markdown",
      "source": [
        "Les opérateurs logiques et de comparaison disponibles dans Pandas sont :\n",
        "\n",
        "| Symbole |           Signification          |\n",
        "|:-------:|:--------------------------------:|\n",
        "|  >, >=  | Comparaison numérique supérieure |\n",
        "|  <, <=  | Comparaison numérique inférieure |\n",
        "|    ==   |    Comparaison numérique égale   |\n",
        "|    &    |            ET logique            |\n",
        "|    \\|   |            OU logique            |\n",
        "|    ~    |           NON logique            |"
      ],
      "metadata": {
        "id": "QGxnHgEbuWH5"
      }
    },
    {
      "cell_type": "markdown",
      "source": [
        "En passant un filtre en tant que label de lignes à `loc`, le résultat est une dataframe ne contenant que les lignes pour lesquelles le filtre est `True`."
      ],
      "metadata": {
        "id": "NKaRG8bYwMNL"
      }
    },
    {
      "cell_type": "code",
      "source": [
        "print(nba_df.loc[result, :])"
      ],
      "metadata": {
        "id": "0DlrACYowNiK"
      },
      "execution_count": null,
      "outputs": []
    },
    {
      "cell_type": "markdown",
      "source": [
        "\n",
        "\n",
        "---\n",
        "\n",
        "\n",
        "Reprenons maintenant l'exemple introduit au tout début du TP. Nous souhaitons savoir combien de matchs ont été gagné par les Celtics dans les années 50 :"
      ],
      "metadata": {
        "id": "PZemiwgmugES"
      }
    },
    {
      "cell_type": "code",
      "source": [
        "won = (nba_df.loc[:, \"game_result\"] == \"W\")\n",
        "played_in_fifties = (nba_df.loc[:, \"year_id\"] >= 1950) & (nba_df.loc[:, \"year_id\"] < 1960)\n",
        "played_by_celtics = (nba_df.loc[:, \"fran_id\"] == \"Celtics\")\n",
        "mask = won & played_in_fifties & played_by_celtics\n",
        "\n",
        "print(len(nba_df.loc[mask, :]))"
      ],
      "metadata": {
        "id": "PFcaGQf_tszb"
      },
      "execution_count": null,
      "outputs": []
    },
    {
      "cell_type": "markdown",
      "source": [
        "On retrouve bien le même nombre que précédemment !\n",
        "\n",
        "### II.3.b - Exercices\n",
        "\n",
        "- Trouver le nombre de fois où les Huskies ont gagnés contre les Knicks"
      ],
      "metadata": {
        "id": "J_fG0RFj0dKs"
      }
    },
    {
      "cell_type": "code",
      "source": [
        "# À compléter"
      ],
      "metadata": {
        "id": "pciE6LDy8pbq"
      },
      "execution_count": null,
      "outputs": []
    },
    {
      "cell_type": "markdown",
      "source": [
        "**Réponse**: 3\n",
        "\n",
        "\n",
        "---\n",
        "\n",
        "\n",
        "- Quelle est la date du dernier match joué par les Cavaliers ?"
      ],
      "metadata": {
        "id": "nTqYyyNV9fXA"
      }
    },
    {
      "cell_type": "code",
      "source": [
        "# À compléter"
      ],
      "metadata": {
        "id": "XPsTx9QT9-Yq"
      },
      "execution_count": null,
      "outputs": []
    },
    {
      "cell_type": "markdown",
      "source": [
        "**Réponse**: Le 28 mars 1947.\n",
        "\n"
      ],
      "metadata": {
        "id": "Jg6XlppJ-qdo"
      }
    },
    {
      "cell_type": "markdown",
      "source": [
        "## II.4 - Une idée des choses plus complexes rendues possibles par Pandas\n",
        "\n",
        "Pandas permet des opérations plus complexes (de manière similaires à SQL) comme [\"grouping\"](https://pandas.pydata.org/docs/user_guide/groupby.html#groupby) ou [\"joining\"](https://pandas.pydata.org/docs/user_guide/merging.html). Dans ce tutoriel, on se concentrera uniquement sur grouping."
      ],
      "metadata": {
        "id": "whgS6_OnlbTO"
      }
    },
    {
      "cell_type": "markdown",
      "source": [
        "### II.4.a - Théorie\n",
        "\n",
        "`Grouping` permet d'agglomérer les données en groupe selon une caractéristique donnée. Par exemple, on pourrait grouper les données par équipe :"
      ],
      "metadata": {
        "id": "y23DCakxsIyI"
      }
    },
    {
      "cell_type": "code",
      "source": [
        "nba_df.groupby(\"fran_id\")"
      ],
      "metadata": {
        "id": "0hbDw0nLm5Xc"
      },
      "execution_count": null,
      "outputs": []
    },
    {
      "cell_type": "markdown",
      "source": [
        "On peut ensuite appliquer des opérations d'aggrégation comme \"sum\", \"mean\", \"std\" ou \"count\":"
      ],
      "metadata": {
        "id": "tu8rHqNtnggB"
      }
    },
    {
      "cell_type": "code",
      "source": [
        "print(nba_df.groupby(\"fran_id\").count())"
      ],
      "metadata": {
        "id": "Hs_zP5zWnbuJ"
      },
      "execution_count": null,
      "outputs": []
    },
    {
      "cell_type": "markdown",
      "source": [
        "Cette fonctionnalité permet de répondre à des requêtes plus complexes et plus précise. Par exemple, si l'on souhaite **trouver le nombre de match gagnés par les deux meilleures équipes dans l'année 1982**:"
      ],
      "metadata": {
        "id": "Ik_xsohxoPCX"
      }
    },
    {
      "cell_type": "code",
      "source": [
        "won = (nba_df.loc[:, \"game_result\"] == \"W\")\n",
        "played_in_1982 = (nba_df.loc[:, \"year_id\"] == 1982)\n",
        "mask = won & played_in_1982\n",
        "\n",
        "print(nba_df.loc[mask, :].groupby(\"fran_id\").count().sort_values(\"game_result\"))"
      ],
      "metadata": {
        "id": "CmdVgNo4otYR"
      },
      "execution_count": null,
      "outputs": []
    },
    {
      "cell_type": "markdown",
      "source": [
        "Résultat : Les équipes `Sixers` et `Celtics` ont toutes les deux gagnée 70 match en 1982 !"
      ],
      "metadata": {
        "id": "8OMYHA9YqObA"
      }
    },
    {
      "cell_type": "markdown",
      "source": [
        "### II.4.b - Exercices\n",
        "\n",
        "Trouver l'année ou les Thunder ont gagnés le plus de matchs"
      ],
      "metadata": {
        "id": "3ML84pvIsdip"
      }
    },
    {
      "cell_type": "code",
      "source": [
        "# À compléter"
      ],
      "metadata": {
        "id": "M4nqmZMPsuV9"
      },
      "execution_count": null,
      "outputs": []
    },
    {
      "cell_type": "markdown",
      "source": [
        "Résultat: Les Thunder ont gagnés le plus de match lors de l'année 1996."
      ],
      "metadata": {
        "id": "klMCR-QEtD12"
      }
    },
    {
      "cell_type": "markdown",
      "source": [
        "## II.5 - Visualisation des données\n",
        "\n",
        "Pandas offre des [fonctions pour visualiser nos données](https://pandas.pydata.org/docs/reference/api/pandas.core.groupby.DataFrameGroupBy.plot.html?highlight=plot#pandas.core.groupby.DataFrameGroupBy.plot) (en s'appuyant sur la bibliothèque matplotlib):"
      ],
      "metadata": {
        "id": "rc2BVrDmsARs"
      }
    },
    {
      "cell_type": "code",
      "source": [
        "nba_df.loc[mask, :].groupby(\"year_id\").count().sort_values(\"game_result\").loc[:, \"game_result\"].plot(kind=\"bar\")"
      ],
      "metadata": {
        "id": "RSNX-ssXtz1X"
      },
      "execution_count": null,
      "outputs": []
    },
    {
      "cell_type": "markdown",
      "source": [
        "# II - Application pratique"
      ],
      "metadata": {
        "id": "J5wVZhr0ACXA"
      }
    },
    {
      "cell_type": "markdown",
      "source": [
        "## II.1 - Description du dataset\n",
        "\n",
        "Ce dataset contient la description de 699 tumeurs du sein, ainsi qu'un diagnostic de la tumeur (bénigne vs maligne). Voici ce que chaque colonne du jeu de données décrit:\n",
        "\n",
        "\n",
        "\n",
        "|    Description de la colonne   |          Plage de valeur         |\n",
        "|:------------------------------:|:--------------------------------:|\n",
        "|   1. Identifiant de la tumeur  |                 /                |\n",
        "|       2. Clump Thickness       |              1 - 10              |\n",
        "|   3. Uniformity of Cell Size   |              1 - 10              |\n",
        "|   4. Uniformity of Cell Shape  |              1 - 10              |\n",
        "|      5. Marginal Adhesion      |              1 - 10              |\n",
        "| 6. Single Epithelial Cell Size |              1 - 10              |\n",
        "|         7. Bare Nuclei         |              1 - 10              |\n",
        "|       8. Bland Chromatin       |              1 - 10              |\n",
        "|       9. Normal Nucleoli       |              1 - 10              |\n",
        "|           10. Mitoses          |              1 - 10              |\n",
        "|       **11. Classification**       | **(2 pour bénigne, 4 pour maligne)** |"
      ],
      "metadata": {
        "id": "j6y2UA1d-p33"
      }
    },
    {
      "cell_type": "code",
      "source": [
        "# Ouvre le dataset au format CSV avec la bibliothèque pandas\n",
        "column_names = [\"ID\", \"Clump Thickness\", \"Uniformity of Cell Size\", \"Uniformity of Cell Shape\", \"Marginal Adhesion\", \"Single Epithelial Cell Size\", \"Bare Nuclei\", \"Bland Chromatin\", \"Normal Nucleoli\", \"Mitoses\", \"Diagnostic\"]\n",
        "bc_df = pd.read_csv(\"breast_cancer/breast-cancer-wisconsin.data\", header=None, names=column_names)\n",
        "bc_df"
      ],
      "metadata": {
        "id": "G7Fjtq7B4NFy"
      },
      "execution_count": null,
      "outputs": []
    },
    {
      "cell_type": "markdown",
      "source": [
        "## II.2 - Analyse des données\n",
        "\n",
        "Dans le contexte de l'apprentissage automatique, il est parfois nécessaire de vérifier que le ratio d'exemple positif/négatif n'est pas trop biaisé dans un sens ou dans l'autre. Ici, cela correspond à vérifier que le nombre cas d'exemple de tuneur bégnigne est comparable à celui des tumeurs malignines.\n",
        "\n",
        "De plus, il est souvent nécessaire de normaliser les données pour s'assurer que l'apprentissage des modèles s'effectue correctement. Ici, les données sont numériques, la normalisation consisterait donc à transformer les données pour qu'elles aient (après transformation) une moyenne de 0 et un écart-type de 1. Pour cela, nous avons besoin de mesurer la moyenne et l'écart-type de chaque variable de description des tumeurs.\n",
        "\n",
        "Enfin, l'analyse des données doit nous permettre de distinguer si des données erronées se sont glissées dans le jeu de données. N'étant pas médecin, on se contentera ici de vérifier que toutes les données sont \"bien formées\". Ici, on se contentera de vérifier que toutes les données sont bien des nombres.\n",
        "\n",
        "***TL;DR***: 3 Tâches à effectuer:\n",
        "- Compter le nombre de tumeurs bénignes et malignes.\n",
        "- Obtenir la moyenne et l'écart-type pour chacune des colonnes décrivant les tumeurs\n",
        "- Vérifier que toutes les données sont bien des nombres"
      ],
      "metadata": {
        "id": "-q-KkvlqHeN1"
      }
    },
    {
      "cell_type": "markdown",
      "source": [
        "### II.2.a - Comptage du nombre de tumeurs bénignes et malignes.\n",
        "\n",
        "On veut compter le nombre de tumeurs bénignes et malignes pour s'assurer que la répartition entre ces deux classes n'est pas trop déséquilibrée.\n",
        "\n",
        "\n",
        "\n"
      ],
      "metadata": {
        "id": "_m5fsp7yN0Ow"
      }
    },
    {
      "cell_type": "code",
      "source": [
        "# À compléter\n",
        "nb_total =  # Nombre de tumeurs totales\n",
        "nb_malign =  # Nombre de tumeurs malignes\n",
        "nb_benign =  # Nombre de tumeurs malignes\n",
        "\n",
        "print(f\"nb_total={nb_total}, nb_malign={nb_malign}, nb_benign={nb_benign}, nb_malign+nb_benign={nb_malign+nb_benign}\")"
      ],
      "metadata": {
        "id": "Js9TFqKHG5MF"
      },
      "execution_count": null,
      "outputs": []
    },
    {
      "cell_type": "markdown",
      "source": [
        "**Solution**:\n",
        "- Le jeu de données décrit 699 tumeurs\n",
        "- Il contient 241 tumeurs malignes\n",
        "- Il contient 458 tumeurs bénignes"
      ],
      "metadata": {
        "id": "c_2sLENgRIUN"
      }
    },
    {
      "cell_type": "markdown",
      "source": [
        "### II.2.b - Obtention des statistiques utiles à la normalisation\n",
        "\n",
        "Si l'on souhaitait normaliser nos données, une normalisation appropriée serait de transformer nos données pour qu'elles aient une moyenne de 0 et un écart-type de 1.\n",
        "\n",
        "Pour effectuer une telle normalisation, il est nécessaire de calculer la moyenne et l'écart-type pour chacune des colonnes décrivant une tumeur.\n",
        "\n",
        "**Remarque**: La colonne *Bare Nuclei* peut poser problème, vous pouvez ne pas la considérer pour cette question"
      ],
      "metadata": {
        "id": "zbIVucXURjMf"
      }
    },
    {
      "cell_type": "code",
      "source": [
        "# À compléter"
      ],
      "metadata": {
        "id": "rrnKULDoL1py"
      },
      "execution_count": null,
      "outputs": []
    },
    {
      "cell_type": "markdown",
      "source": [
        "**Solution**:\n",
        "- Clump Thickness, mean=4.42, std=2.82\n",
        "- Uniformity of Cell Size, mean=3.13, std=3.05\n",
        "- Uniformity of Cell Shape, mean=3.21, std=2.97\n",
        "- Marginal Adhesion, mean=2.81, std=2.86\n",
        "- Single Epithelial Cell Size, mean=3.22, std=2.21\n",
        "- *Bare Nuclei, mean=N/A, std=N/A*\n",
        "- Bland Chromatin, mean=3.44, std=2.44\n",
        "- Normal Nucleoli, mean=2.87, std=3.05\n",
        "- Mitoses, mean=1.59, std=1.72"
      ],
      "metadata": {
        "id": "JO3A36f8WDh8"
      }
    },
    {
      "cell_type": "markdown",
      "source": [
        "### II.2.c - Vérification que les les données sont \"propres\"\n",
        "\n",
        "Dans le cadre de l'apprentissage automatique, il est nécessaire que les données utilisées soit \"propres\". C'est à dire qu'elles soient cohérentes et bien formées. Ici, on se contentera de vérifier que toutes les données sont bien **uniquement des nombres**.\n",
        "\n",
        "**Aide**:\n",
        "- La fonction [notnull](https://pandas.pydata.org/docs/reference/api/pandas.DataFrame.notnull.html) retourne une Dataframe contenant True pour les cellules ne contenant pas NaN, False sinon\n",
        "- La fonction [to_numeric](https://pandas.pydata.org/docs/reference/api/pandas.to_numeric.html) retourne une nouvelle colonne où les cellules contenant des chaînes de caractères sont converties en nombres si elles correspondent à un nombre. Avec l'option `errors=\"coerce\"`, les chaînes de caractères ne correspondant pas à des nombres sont remplacés par NaN."
      ],
      "metadata": {
        "id": "haQNJNBMXcVa"
      }
    },
    {
      "cell_type": "code",
      "source": [
        "# À compléter"
      ],
      "metadata": {
        "id": "0BbDGcfCUOEd"
      },
      "execution_count": null,
      "outputs": []
    },
    {
      "cell_type": "markdown",
      "source": [
        "**Solution**\n",
        "- Toutes les colonnes sauf *Bare Nuclei* ne contiennent que des chiffres.\n",
        "- Les lignes d'indices 23, 40, 139, 145, 158, 164, 235, 249, 275, 292, 294, 297, 315, 321, 411, 617 contiennent le charactère '?' dans la colonne *Bare Nuclei*"
      ],
      "metadata": {
        "id": "WQ-Za5e3i5K1"
      }
    },
    {
      "cell_type": "markdown",
      "source": [
        "## II.3 - Traitement des données\n",
        "\n",
        "Pour entraîner un algorithme d'apprentissage automatique à prédire si une tumeur est bénigne ou maligne, il est nécessaire de diviser le jeu de données en deux. Le premier permet d'entraîner le modèle, le second permet de mesurer la précision du modèle.\n",
        "\n",
        "Il est aussi nécessaire de séparer en deux listes différentes. La première contient la description des tumeurs, la deuxième contient uniquement le diagnostic (bénigne ou maligne).\n",
        "\n",
        "Il faut aussi transformer la description du diagnostic de manière compréhensible par l'algorithme d'apprentissage automatique. 0 si la tumeur est bénigne, 1 si la tumeur est maligne.\n",
        "\n",
        "Enfin, il est nécessaire d'avoir des données \"propres\". Dans ce jeu de données, certaines lignes contiennent une valeur erronnée représentée par \"?\". Il est nécessaire de supprimier ces lignes\n",
        "\n",
        "\n",
        "**TL;DR:**\n",
        "Quatres tâches à effectuer:\n",
        "- \"Nettoyer\" le jeu de données\n",
        "- Convertir la colone *'Diagnostic'* en **Bénigne=0**, **Maligne=1**\n",
        "- Diviser le jeu de données en un sous-ensemble d'apprentissage (75% des données), et un sous-ensemble d'évaluation (25% des données)\n",
        "- Extraire pour chaque sous-ensemble d'un côté la description de la tumeur, de l'autre côté le diagnostic de la tumeur."
      ],
      "metadata": {
        "id": "J6jI3aieDHgt"
      }
    },
    {
      "cell_type": "markdown",
      "source": [
        "### II.3.a - Nettoyage du jeu de données\n",
        "\n",
        "Certaines valeurs du jeu de données ont été remplacée par '?' car non disponible lors de l'évaluation de la tumeur par le docteur. Les modèles d'apprentissages automatiques savent uniquement manipuler des nombres. Il est donc nécessaire de supprimer les lignes erronées dû à ces '?'\n",
        "\n",
        "NB: En pratique, on essaye parfois de 'sauver' la ligne plutôt que de la supprimer entièrement. Ici, on pourrait tenter de remplacer '?' par la valeur moyenne de la colonne. On se contentera pour cet exercice de supprimer les lignes erronées."
      ],
      "metadata": {
        "id": "lIvXDQJpN8ws"
      }
    },
    {
      "cell_type": "code",
      "source": [
        "# À compléter"
      ],
      "metadata": {
        "id": "hIZi-WO9PFjl"
      },
      "execution_count": null,
      "outputs": []
    },
    {
      "cell_type": "markdown",
      "source": [
        "### II.3.b - Conversion de la colonne Diagnostic\n",
        "\n",
        "On souhaite modifier la colonne *'Diagnostic'*. Actuellement, la description correspond à **Bénigne=2**, **Maligne=4**. On souhaite transformer la description en **Bénigne=0**, **Maligne=1**"
      ],
      "metadata": {
        "id": "JrMnAyWMHvQu"
      }
    },
    {
      "cell_type": "code",
      "source": [
        "# À compléter"
      ],
      "metadata": {
        "id": "VxihoGR_DAZQ"
      },
      "execution_count": null,
      "outputs": []
    },
    {
      "cell_type": "markdown",
      "source": [
        "### II.3.c - Division du jeu de données en sous-ensemble d'entraînement et d'évaluation\n",
        "\n",
        "On souhaite diviser le jeu de données total en deux sous-ensemble.\n",
        "Un premier sous-ensemble contenant 75% des données servira à l'apprentissage du modèle.\n",
        "Un second sous-ensemble contenant 25% des données servira à l'évaluation du modèle."
      ],
      "metadata": {
        "id": "ndTnTaJM22wv"
      }
    },
    {
      "cell_type": "code",
      "source": [
        "# À compléter"
      ],
      "metadata": {
        "id": "etqDr8NHzYGi"
      },
      "execution_count": null,
      "outputs": []
    },
    {
      "cell_type": "markdown",
      "source": [
        "### II.3.d - Séparation du diagnostique et de la description des tumeurs\n",
        "\n",
        "Afin d'entraîner un modèle d'apprentissage automatique, nous devons séparer les entrées du modèle et ses sorties. Ici, on veut séparer la description d'une tumeur de son diagnostique.\n",
        "\n",
        "*Attention, l'ID d'une tumeur ne fait pas partie de sa description !*"
      ],
      "metadata": {
        "id": "OmRd0NHc_bLo"
      }
    },
    {
      "cell_type": "code",
      "source": [
        "# À compléter"
      ],
      "metadata": {
        "id": "3cG6H-TO_ZT_"
      },
      "execution_count": null,
      "outputs": []
    },
    {
      "cell_type": "markdown",
      "source": [
        "## II.4 - Entraînement et évaluation du modèle"
      ],
      "metadata": {
        "id": "ihhfKRJzEyGr"
      }
    },
    {
      "cell_type": "code",
      "source": [
        "from sklearn.tree import DecisionTreeClassifier\n",
        "\n",
        "model = DecisionTreeClassifier()\n",
        "model.fit(train_input_df, train_output_df)\n",
        "model.score(test_input_df, test_output_df)"
      ],
      "metadata": {
        "id": "y5PEPMm__TXs"
      },
      "execution_count": null,
      "outputs": []
    },
    {
      "cell_type": "code",
      "source": [
        ""
      ],
      "metadata": {
        "id": "jYjhQy7pB5WG"
      },
      "execution_count": null,
      "outputs": []
    }
  ]
}